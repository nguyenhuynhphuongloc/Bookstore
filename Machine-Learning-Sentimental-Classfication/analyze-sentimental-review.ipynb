{
 "cells": [
  {
   "cell_type": "markdown",
   "id": "74af1e44-91e4-4641-b5e4-8b3bf0da3ac6",
   "metadata": {},
   "source": [
    "# Import Library"
   ]
  },
  {
   "cell_type": "code",
   "execution_count": 1,
   "id": "2220c6e2-3fd7-4f86-aeae-1e3dbb595c7e",
   "metadata": {},
   "outputs": [],
   "source": [
    "from IPython.display import display\n",
    "import pandas as pd\n",
    "import os\n",
    "import re\n",
    "import matplotlib.pyplot as plt\n",
    "import nltk\n",
    "from nltk.corpus import stopwords\n",
    "from sklearn.model_selection import train_test_split\n",
    "from sklearn.feature_extraction.text import CountVectorizer\n",
    "from sklearn.feature_extraction.text import TfidfVectorizer\n",
    "from bs4 import BeautifulSoup\n",
    "from nltk.stem import WordNetLemmatizer\n",
    "from sklearn.naive_bayes import MultinomialNB\n",
    "from sklearn.metrics import confusion_matrix,accuracy_score,classification_report\n",
    "from sklearn.feature_extraction.text import TfidfVectorizer\n",
    "from sklearn.feature_extraction.text import CountVectorizer\n",
    "from sklearn.svm import SVC\n",
    "from sklearn.metrics import classification_report, accuracy_score\n",
    "import os"
   ]
  },
  {
   "cell_type": "markdown",
   "id": "67350699-abff-4b30-a90a-74599539dcf9",
   "metadata": {},
   "source": [
    "# Prepare Data"
   ]
  },
  {
   "cell_type": "code",
   "execution_count": 2,
   "id": "e2b26a58-55c6-4c49-804d-b8e97765df5d",
   "metadata": {},
   "outputs": [
    {
     "name": "stdout",
     "output_type": "stream",
     "text": [
      "Đường dẫn file:\n",
      "C:\\Users\\ASUS\\projects\\review-data\\preprocessed_kindle_review .csv\n",
      "\n"
     ]
    },
    {
     "data": {
      "text/html": [
       "<div>\n",
       "<style scoped>\n",
       "    .dataframe tbody tr th:only-of-type {\n",
       "        vertical-align: middle;\n",
       "    }\n",
       "\n",
       "    .dataframe tbody tr th {\n",
       "        vertical-align: top;\n",
       "    }\n",
       "\n",
       "    .dataframe thead th {\n",
       "        text-align: right;\n",
       "    }\n",
       "</style>\n",
       "<table border=\"1\" class=\"dataframe\">\n",
       "  <thead>\n",
       "    <tr style=\"text-align: right;\">\n",
       "      <th></th>\n",
       "      <th>Unnamed: 0</th>\n",
       "      <th>rating</th>\n",
       "      <th>reviewText</th>\n",
       "      <th>summary</th>\n",
       "    </tr>\n",
       "  </thead>\n",
       "  <tbody>\n",
       "    <tr>\n",
       "      <th>0</th>\n",
       "      <td>0</td>\n",
       "      <td>5</td>\n",
       "      <td>This book was the very first bookmobile book I...</td>\n",
       "      <td>50 + years ago...</td>\n",
       "    </tr>\n",
       "    <tr>\n",
       "      <th>1</th>\n",
       "      <td>1</td>\n",
       "      <td>1</td>\n",
       "      <td>When I read the description for this book, I c...</td>\n",
       "      <td>Boring! Boring! Boring!</td>\n",
       "    </tr>\n",
       "    <tr>\n",
       "      <th>2</th>\n",
       "      <td>2</td>\n",
       "      <td>5</td>\n",
       "      <td>I just had to edit this review. This book is a...</td>\n",
       "      <td>Wiggleliscious/new toy ready/!!</td>\n",
       "    </tr>\n",
       "    <tr>\n",
       "      <th>3</th>\n",
       "      <td>3</td>\n",
       "      <td>5</td>\n",
       "      <td>I don't normally buy 'mystery' novels because ...</td>\n",
       "      <td>Very good read.</td>\n",
       "    </tr>\n",
       "    <tr>\n",
       "      <th>4</th>\n",
       "      <td>4</td>\n",
       "      <td>5</td>\n",
       "      <td>This isn't the kind of book I normally read, a...</td>\n",
       "      <td>Great Story!</td>\n",
       "    </tr>\n",
       "  </tbody>\n",
       "</table>\n",
       "</div>"
      ],
      "text/plain": [
       "   Unnamed: 0  rating                                         reviewText  \\\n",
       "0           0       5  This book was the very first bookmobile book I...   \n",
       "1           1       1  When I read the description for this book, I c...   \n",
       "2           2       5  I just had to edit this review. This book is a...   \n",
       "3           3       5  I don't normally buy 'mystery' novels because ...   \n",
       "4           4       5  This isn't the kind of book I normally read, a...   \n",
       "\n",
       "                           summary  \n",
       "0                50 + years ago...  \n",
       "1          Boring! Boring! Boring!  \n",
       "2  Wiggleliscious/new toy ready/!!  \n",
       "3                  Very good read.  \n",
       "4                     Great Story!  "
      ]
     },
     "execution_count": 2,
     "metadata": {},
     "output_type": "execute_result"
    }
   ],
   "source": [
    "\n",
    "file_name = \"preprocessed_kindle_review .csv\"\n",
    "file_path = os.path.abspath(file_name)\n",
    "\n",
    "print(f\"Đường dẫn file:\\n{file_path}\\n\")\n",
    "\n",
    "# Đọc CSV\n",
    "df = pd.read_csv(file_path, sep=\"\\t\", on_bad_lines=\"skip\")\n",
    "\n",
    "df = pd.read_csv(file_path, sep=\",\", on_bad_lines=\"skip\")\n",
    "\n",
    "df.head()\n"
   ]
  },
  {
   "cell_type": "markdown",
   "id": "fc83acb8-af75-4d44-a3b5-68ef8babe8c1",
   "metadata": {},
   "source": [
    "# EDA"
   ]
  },
  {
   "cell_type": "code",
   "execution_count": 3,
   "id": "5034dc41-bc8a-4fc1-bb96-3e8c031e459b",
   "metadata": {},
   "outputs": [
    {
     "name": "stdout",
     "output_type": "stream",
     "text": [
      "<class 'pandas.core.frame.DataFrame'>\n",
      "RangeIndex: 12000 entries, 0 to 11999\n",
      "Data columns (total 4 columns):\n",
      " #   Column      Non-Null Count  Dtype \n",
      "---  ------      --------------  ----- \n",
      " 0   Unnamed: 0  12000 non-null  int64 \n",
      " 1   rating      12000 non-null  int64 \n",
      " 2   reviewText  12000 non-null  object\n",
      " 3   summary     11998 non-null  object\n",
      "dtypes: int64(2), object(2)\n",
      "memory usage: 375.1+ KB\n"
     ]
    }
   ],
   "source": [
    "df.info()"
   ]
  },
  {
   "cell_type": "code",
   "execution_count": 4,
   "id": "41ac3a8b-fb80-417c-9703-881643213e4b",
   "metadata": {},
   "outputs": [
    {
     "data": {
      "text/plain": [
       "Unnamed: 0    0\n",
       "rating        0\n",
       "reviewText    0\n",
       "summary       2\n",
       "dtype: int64"
      ]
     },
     "execution_count": 4,
     "metadata": {},
     "output_type": "execute_result"
    }
   ],
   "source": [
    "df.isnull().sum()"
   ]
  },
  {
   "cell_type": "code",
   "execution_count": 5,
   "id": "55484b09-609c-4e6a-9e9a-8f9b44a923a7",
   "metadata": {},
   "outputs": [
    {
     "data": {
      "text/plain": [
       "rating\n",
       "5    3000\n",
       "4    3000\n",
       "1    2000\n",
       "3    2000\n",
       "2    2000\n",
       "Name: count, dtype: int64"
      ]
     },
     "execution_count": 5,
     "metadata": {},
     "output_type": "execute_result"
    }
   ],
   "source": [
    "df['rating'].value_counts()"
   ]
  },
  {
   "cell_type": "markdown",
   "id": "a7dafb08-5d97-4549-93ca-8c619c1d99d9",
   "metadata": {},
   "source": [
    "# Clean Data"
   ]
  },
  {
   "cell_type": "markdown",
   "id": "b97f2686-730f-4272-a355-2aa3784e2afd",
   "metadata": {},
   "source": [
    "# Delete Unneccesary Column"
   ]
  },
  {
   "cell_type": "code",
   "execution_count": 6,
   "id": "8645c035-05f1-45c0-8f72-9f2349a8e7e7",
   "metadata": {},
   "outputs": [
    {
     "data": {
      "text/html": [
       "<div>\n",
       "<style scoped>\n",
       "    .dataframe tbody tr th:only-of-type {\n",
       "        vertical-align: middle;\n",
       "    }\n",
       "\n",
       "    .dataframe tbody tr th {\n",
       "        vertical-align: top;\n",
       "    }\n",
       "\n",
       "    .dataframe thead th {\n",
       "        text-align: right;\n",
       "    }\n",
       "</style>\n",
       "<table border=\"1\" class=\"dataframe\">\n",
       "  <thead>\n",
       "    <tr style=\"text-align: right;\">\n",
       "      <th></th>\n",
       "      <th>rating</th>\n",
       "      <th>reviewText</th>\n",
       "      <th>summary</th>\n",
       "    </tr>\n",
       "  </thead>\n",
       "  <tbody>\n",
       "    <tr>\n",
       "      <th>0</th>\n",
       "      <td>5</td>\n",
       "      <td>This book was the very first bookmobile book I...</td>\n",
       "      <td>50 + years ago...</td>\n",
       "    </tr>\n",
       "    <tr>\n",
       "      <th>1</th>\n",
       "      <td>1</td>\n",
       "      <td>When I read the description for this book, I c...</td>\n",
       "      <td>Boring! Boring! Boring!</td>\n",
       "    </tr>\n",
       "    <tr>\n",
       "      <th>2</th>\n",
       "      <td>5</td>\n",
       "      <td>I just had to edit this review. This book is a...</td>\n",
       "      <td>Wiggleliscious/new toy ready/!!</td>\n",
       "    </tr>\n",
       "    <tr>\n",
       "      <th>3</th>\n",
       "      <td>5</td>\n",
       "      <td>I don't normally buy 'mystery' novels because ...</td>\n",
       "      <td>Very good read.</td>\n",
       "    </tr>\n",
       "    <tr>\n",
       "      <th>4</th>\n",
       "      <td>5</td>\n",
       "      <td>This isn't the kind of book I normally read, a...</td>\n",
       "      <td>Great Story!</td>\n",
       "    </tr>\n",
       "  </tbody>\n",
       "</table>\n",
       "</div>"
      ],
      "text/plain": [
       "   rating                                         reviewText  \\\n",
       "0       5  This book was the very first bookmobile book I...   \n",
       "1       1  When I read the description for this book, I c...   \n",
       "2       5  I just had to edit this review. This book is a...   \n",
       "3       5  I don't normally buy 'mystery' novels because ...   \n",
       "4       5  This isn't the kind of book I normally read, a...   \n",
       "\n",
       "                           summary  \n",
       "0                50 + years ago...  \n",
       "1          Boring! Boring! Boring!  \n",
       "2  Wiggleliscious/new toy ready/!!  \n",
       "3                  Very good read.  \n",
       "4                     Great Story!  "
      ]
     },
     "execution_count": 6,
     "metadata": {},
     "output_type": "execute_result"
    }
   ],
   "source": [
    "data = df[['rating', 'reviewText', 'summary']]\n",
    "\n",
    "data.head()"
   ]
  },
  {
   "cell_type": "markdown",
   "id": "9cd50c51-fdaa-44af-8bb4-2b34aae42808",
   "metadata": {},
   "source": [
    "# Delete Null"
   ]
  },
  {
   "cell_type": "code",
   "execution_count": 7,
   "id": "96ab8398-271e-4658-81dd-ca556f3478eb",
   "metadata": {},
   "outputs": [
    {
     "data": {
      "text/plain": [
       "rating        0\n",
       "reviewText    0\n",
       "summary       0\n",
       "dtype: int64"
      ]
     },
     "execution_count": 7,
     "metadata": {},
     "output_type": "execute_result"
    }
   ],
   "source": [
    "processed_data = data.dropna()\n",
    "\n",
    "processed_data.isnull().sum()"
   ]
  },
  {
   "cell_type": "markdown",
   "id": "c4de9689-3747-48dd-b0fd-cae23c3a79f3",
   "metadata": {},
   "source": [
    "# Process Data for Training"
   ]
  },
  {
   "cell_type": "markdown",
   "id": "437843cf-9ff3-45da-9f99-7f5781238946",
   "metadata": {},
   "source": [
    "# Clean Text"
   ]
  },
  {
   "cell_type": "code",
   "execution_count": 8,
   "id": "79e6f761-6d0b-4fc8-91fc-ba55e5f96320",
   "metadata": {},
   "outputs": [],
   "source": [
    "stop_words = set(stopwords.words('english'))\n",
    "\n",
    "def clean_text(text: str) -> str:\n",
    "    # 1. Bỏ ký tự đặc biệt, giữ chữ và số\n",
    "    text = re.sub(r'[^a-zA-Z0-9\\s-]+', ' ', text)\n",
    "    \n",
    "    # 2. Bỏ link\n",
    "    text = re.sub(r'http\\S+', '', text)\n",
    "    \n",
    "    # 3. Xóa HTML tags\n",
    "    text = BeautifulSoup(text, \"lxml\").get_text()\n",
    "    \n",
    "    # 4. Tách từ, bỏ stopwords\n",
    "    tokens = [word for word in text.split() if word.lower() not in stop_words]\n",
    "    \n",
    "    # 5. Bỏ khoảng trắng thừa\n",
    "    return \" \".join(tokens)\n",
    "\n",
    "processed_data.loc[:, \"reviewText\"] = processed_data[\"reviewText\"].astype(str).apply(clean_text)\n",
    "processed_data.loc[:,\"summary\"] = processed_data[\"summary\"].astype(str).apply(clean_text)\n",
    "    "
   ]
  },
  {
   "cell_type": "code",
   "execution_count": 9,
   "id": "fac6d82b-6df3-4ebd-af0c-a371dc23e951",
   "metadata": {},
   "outputs": [
    {
     "data": {
      "text/html": [
       "<div>\n",
       "<style scoped>\n",
       "    .dataframe tbody tr th:only-of-type {\n",
       "        vertical-align: middle;\n",
       "    }\n",
       "\n",
       "    .dataframe tbody tr th {\n",
       "        vertical-align: top;\n",
       "    }\n",
       "\n",
       "    .dataframe thead th {\n",
       "        text-align: right;\n",
       "    }\n",
       "</style>\n",
       "<table border=\"1\" class=\"dataframe\">\n",
       "  <thead>\n",
       "    <tr style=\"text-align: right;\">\n",
       "      <th></th>\n",
       "      <th>rating</th>\n",
       "      <th>reviewText</th>\n",
       "      <th>summary</th>\n",
       "    </tr>\n",
       "  </thead>\n",
       "  <tbody>\n",
       "    <tr>\n",
       "      <th>0</th>\n",
       "      <td>5</td>\n",
       "      <td>book first bookmobile book bought school book ...</td>\n",
       "      <td>50 years ago</td>\n",
       "    </tr>\n",
       "    <tr>\n",
       "      <th>1</th>\n",
       "      <td>1</td>\n",
       "      <td>read description book wait read downloaded Kin...</td>\n",
       "      <td>Boring Boring Boring</td>\n",
       "    </tr>\n",
       "    <tr>\n",
       "      <th>2</th>\n",
       "      <td>5</td>\n",
       "      <td>edit review book believe got right updated re-...</td>\n",
       "      <td>Wiggleliscious new toy ready</td>\n",
       "    </tr>\n",
       "    <tr>\n",
       "      <th>3</th>\n",
       "      <td>5</td>\n",
       "      <td>normally buy mystery novels like However time ...</td>\n",
       "      <td>good read</td>\n",
       "    </tr>\n",
       "    <tr>\n",
       "      <th>4</th>\n",
       "      <td>5</td>\n",
       "      <td>kind book normally read although try limit cer...</td>\n",
       "      <td>Great Story</td>\n",
       "    </tr>\n",
       "  </tbody>\n",
       "</table>\n",
       "</div>"
      ],
      "text/plain": [
       "   rating                                         reviewText  \\\n",
       "0       5  book first bookmobile book bought school book ...   \n",
       "1       1  read description book wait read downloaded Kin...   \n",
       "2       5  edit review book believe got right updated re-...   \n",
       "3       5  normally buy mystery novels like However time ...   \n",
       "4       5  kind book normally read although try limit cer...   \n",
       "\n",
       "                        summary  \n",
       "0                  50 years ago  \n",
       "1          Boring Boring Boring  \n",
       "2  Wiggleliscious new toy ready  \n",
       "3                     good read  \n",
       "4                   Great Story  "
      ]
     },
     "execution_count": 9,
     "metadata": {},
     "output_type": "execute_result"
    }
   ],
   "source": [
    "processed_data.head()"
   ]
  },
  {
   "cell_type": "code",
   "execution_count": 10,
   "id": "c37afb88-eb1c-443c-b428-73c9bb2668b6",
   "metadata": {},
   "outputs": [],
   "source": [
    "wl=WordNetLemmatizer()\n",
    "\n",
    "def lemmatize_words(text):\n",
    "    return \" \".join([wl.lemmatize(word) for word in text.split()])\n",
    "\n",
    "processed_data.loc[:, 'reviewText'] = processed_data['reviewText'].apply(lemmatize_words)\n",
    "processed_data.loc[:,\"summary\"] = processed_data[\"summary\"].astype(str).apply(clean_text)"
   ]
  },
  {
   "cell_type": "code",
   "execution_count": 11,
   "id": "4c828c60-73ee-4368-aa86-d9bb9d5211bf",
   "metadata": {},
   "outputs": [],
   "source": [
    "processed_data.loc[:,'rating']=processed_data['rating'].apply(lambda x:0 if x<3 else 1 )"
   ]
  },
  {
   "cell_type": "code",
   "execution_count": 12,
   "id": "c30ae5c7-aab0-4594-ac22-844d34707402",
   "metadata": {},
   "outputs": [],
   "source": [
    "processed_data = pd.concat([\n",
    "    processed_data[[\"rating\", \"reviewText\"]].rename(columns={\"reviewText\": \"text\"}),\n",
    "    processed_data[[\"rating\", \"summary\"]].rename(columns={\"summary\": \"text\"})\n",
    "], ignore_index=True)"
   ]
  },
  {
   "cell_type": "code",
   "execution_count": 13,
   "id": "99a7c010-acf3-407e-9555-aa12dad3c5f1",
   "metadata": {},
   "outputs": [
    {
     "data": {
      "text/html": [
       "<div>\n",
       "<style scoped>\n",
       "    .dataframe tbody tr th:only-of-type {\n",
       "        vertical-align: middle;\n",
       "    }\n",
       "\n",
       "    .dataframe tbody tr th {\n",
       "        vertical-align: top;\n",
       "    }\n",
       "\n",
       "    .dataframe thead th {\n",
       "        text-align: right;\n",
       "    }\n",
       "</style>\n",
       "<table border=\"1\" class=\"dataframe\">\n",
       "  <thead>\n",
       "    <tr style=\"text-align: right;\">\n",
       "      <th></th>\n",
       "      <th>rating</th>\n",
       "      <th>text</th>\n",
       "    </tr>\n",
       "  </thead>\n",
       "  <tbody>\n",
       "    <tr>\n",
       "      <th>0</th>\n",
       "      <td>1</td>\n",
       "      <td>book first bookmobile book bought school book ...</td>\n",
       "    </tr>\n",
       "    <tr>\n",
       "      <th>1</th>\n",
       "      <td>0</td>\n",
       "      <td>read description book wait read downloaded Kin...</td>\n",
       "    </tr>\n",
       "    <tr>\n",
       "      <th>2</th>\n",
       "      <td>1</td>\n",
       "      <td>edit review book believe got right updated re-...</td>\n",
       "    </tr>\n",
       "    <tr>\n",
       "      <th>3</th>\n",
       "      <td>1</td>\n",
       "      <td>normally buy mystery novel like However time d...</td>\n",
       "    </tr>\n",
       "    <tr>\n",
       "      <th>4</th>\n",
       "      <td>1</td>\n",
       "      <td>kind book normally read although try limit cer...</td>\n",
       "    </tr>\n",
       "  </tbody>\n",
       "</table>\n",
       "</div>"
      ],
      "text/plain": [
       "   rating                                               text\n",
       "0       1  book first bookmobile book bought school book ...\n",
       "1       0  read description book wait read downloaded Kin...\n",
       "2       1  edit review book believe got right updated re-...\n",
       "3       1  normally buy mystery novel like However time d...\n",
       "4       1  kind book normally read although try limit cer..."
      ]
     },
     "execution_count": 13,
     "metadata": {},
     "output_type": "execute_result"
    }
   ],
   "source": [
    "processed_data.head()"
   ]
  },
  {
   "cell_type": "code",
   "execution_count": 14,
   "id": "15e3fa3d-721d-44b1-b64b-f58d2f16b7fb",
   "metadata": {},
   "outputs": [
    {
     "data": {
      "text/plain": [
       "rating\n",
       "1    15996\n",
       "0     8000\n",
       "Name: count, dtype: int64"
      ]
     },
     "execution_count": 14,
     "metadata": {},
     "output_type": "execute_result"
    }
   ],
   "source": [
    "processed_data['rating'].value_counts()"
   ]
  },
  {
   "cell_type": "code",
   "execution_count": 15,
   "id": "9ef79024-2a33-4274-977d-f0f3e053dce4",
   "metadata": {},
   "outputs": [
    {
     "data": {
      "image/png": "[encoded data removed]",
      "text/plain": [
       "<Figure size 600x400 with 1 Axes>"
      ]
     },
     "metadata": {},
     "output_type": "display_data"
    }
   ],
   "source": [
    "binary_counts = processed_data[\"rating\"].value_counts().sort_index()\n",
    "\n",
    "ax = binary_counts.plot(\n",
    "    kind=\"bar\",\n",
    "    color=[\"salmon\", \"skyblue\"],\n",
    "    edgecolor=\"black\",\n",
    "    figsize=(6,4),\n",
    "    title=\"Phân phối rating sau khi chuyển đổi\"\n",
    ")\n",
    "\n",
    "ax.set_xlabel(\"Rating\")\n",
    "ax.set_ylabel(\"Count\")\n",
    "\n",
    "for p in ax.patches:\n",
    "    ax.annotate(str(int(p.get_height())),\n",
    "                (p.get_x() + p.get_width()/2., p.get_height()),\n",
    "                ha=\"center\", va=\"bottom\", fontsize=10)\n",
    "\n",
    "plt.show()\n"
   ]
  },
  {
   "cell_type": "markdown",
   "id": "d60e1dab-59fe-4266-b80d-e0feb5bbe2c4",
   "metadata": {},
   "source": [
    "# BOW + TFIDF"
   ]
  },
  {
   "cell_type": "code",
   "execution_count": 16,
   "id": "45866b4d-2f70-46b4-a9d6-f2bc45eb4901",
   "metadata": {},
   "outputs": [],
   "source": [
    "X_train,X_test,y_train,y_test=train_test_split(processed_data['text'],processed_data['rating'],test_size=0.20)"
   ]
  },
  {
   "cell_type": "code",
   "execution_count": 17,
   "id": "f75e8c7d-6670-4190-bb53-7af60ca90b28",
   "metadata": {},
   "outputs": [
    {
     "data": {
      "text/plain": [
       "9281     first book series prequel required whole nuthe...\n",
       "13245                   Credible heroine thick-headed hero\n",
       "20314                                     Outstanding read\n",
       "8589     Nothing better start reading novel sudden real...\n",
       "16970                                                  Sjm\n",
       "                               ...                        \n",
       "8132     Cloning Jesus Christ seems like good place sta...\n",
       "21087                        103 pages never went anywhere\n",
       "6314     big fan novella one good course want usually g...\n",
       "6192     Really liked story hard time keeping track cha...\n",
       "13568                                          Book review\n",
       "Name: text, Length: 19196, dtype: object"
      ]
     },
     "execution_count": 17,
     "metadata": {},
     "output_type": "execute_result"
    }
   ],
   "source": [
    "X_train"
   ]
  },
  {
   "cell_type": "code",
   "execution_count": 18,
   "id": "906d7713-6035-4375-b87d-3a86b53d9174",
   "metadata": {},
   "outputs": [],
   "source": [
    "\n",
    "vectorizer_bow = CountVectorizer()\n",
    "X_train_bow=vectorizer_bow.fit_transform(X_train).toarray()\n",
    "X_test_bow=vectorizer_bow .transform(X_test).toarray()"
   ]
  },
  {
   "cell_type": "code",
   "execution_count": 19,
   "id": "652d41a3-3270-42a0-ae39-73fe8d7925e5",
   "metadata": {},
   "outputs": [],
   "source": [
    "tfidf=TfidfVectorizer()\n",
    "X_train_tfidf=tfidf.fit_transform(X_train)\n",
    "X_test_tfidf=tfidf.transform(X_test)"
   ]
  },
  {
   "cell_type": "code",
   "execution_count": 20,
   "id": "b4a9427e-a4e1-47ec-ab87-e2a8bdca692f",
   "metadata": {},
   "outputs": [],
   "source": [
    "\n",
    "nb_model_bow = MultinomialNB().fit(X_train_bow, y_train)\n",
    "nb_model_tfidf = MultinomialNB().fit(X_train_tfidf, y_train)"
   ]
  },
  {
   "cell_type": "code",
   "execution_count": 21,
   "id": "e2efdb19-074f-4bc2-ab82-4e1800908be9",
   "metadata": {},
   "outputs": [],
   "source": [
    "y_pred_bow=nb_model_bow.predict(X_test_bow)"
   ]
  },
  {
   "cell_type": "code",
   "execution_count": 22,
   "id": "36931961-14f6-4eaf-b6d2-fcbf9b72898d",
   "metadata": {},
   "outputs": [],
   "source": [
    "y_pred_tfidf=nb_model_tfidf.predict(X_test_tfidf)"
   ]
  },
  {
   "cell_type": "code",
   "execution_count": 23,
   "id": "0c2949da-36c6-49f9-9cad-0f7c66372d7a",
   "metadata": {},
   "outputs": [
    {
     "name": "stdout",
     "output_type": "stream",
     "text": [
      "BOW accuracy: 0.8095833333333333\n"
     ]
    }
   ],
   "source": [
    "print(\"BOW accuracy:\",accuracy_score(y_test,y_pred_bow))"
   ]
  },
  {
   "cell_type": "code",
   "execution_count": 24,
   "id": "a6af4db7-25ef-4713-85f4-34ab49a1ffe9",
   "metadata": {},
   "outputs": [
    {
     "name": "stdout",
     "output_type": "stream",
     "text": [
      "TfIdf accuracy: 0.7602083333333334\n"
     ]
    }
   ],
   "source": [
    "print(\"TfIdf accuracy:\",accuracy_score(y_test,y_pred_tfidf))"
   ]
  },
  {
   "cell_type": "code",
   "execution_count": 25,
   "id": "e441d439-716a-46c3-a1ed-ff6b18ecdc9a",
   "metadata": {},
   "outputs": [
    {
     "name": "stderr",
     "output_type": "stream",
     "text": [
      "C:\\Users\\ASUS\\anaconda3\\envs\\pyspark-env\\lib\\site-packages\\huggingface_hub\\file_download.py:945: FutureWarning: `resume_download` is deprecated and will be removed in version 1.0.0. Downloads always resume when possible. If you want to force a new download, use `force_download=True`.\n",
      "  warnings.warn(\n"
     ]
    }
   ],
   "source": [
    "from sentence_transformers import SentenceTransformer\n",
    "\n",
    "model = SentenceTransformer('all-MiniLM-L6-v2') \n",
    "X_train_vec = model.encode(X_train.tolist(), convert_to_tensor=True)\n",
    "X_test_vec = model.encode(X_test.tolist(), convert_to_tensor=True)"
   ]
  },
  {
   "cell_type": "code",
   "execution_count": 26,
   "id": "4c45bb38-cc05-4b61-936c-4d82c403a1f7",
   "metadata": {},
   "outputs": [
    {
     "name": "stdout",
     "output_type": "stream",
     "text": [
      "              precision    recall  f1-score   support\n",
      "\n",
      "           0       0.70      0.62      0.66      1571\n",
      "           1       0.83      0.87      0.85      3229\n",
      "\n",
      "    accuracy                           0.79      4800\n",
      "   macro avg       0.76      0.75      0.75      4800\n",
      "weighted avg       0.79      0.79      0.79      4800\n",
      "\n",
      "Accuracy: 0.79\n"
     ]
    }
   ],
   "source": [
    "clf = SVC(kernel='linear')\n",
    "clf.fit(X_train_vec, y_train)\n",
    "y_pred = clf.predict(X_test_vec)\n",
    "\n",
    "print(classification_report(y_test, y_pred))\n",
    "print(\"Accuracy:\", accuracy_score(y_test, y_pred))"
   ]
  },
  {
   "cell_type": "markdown",
   "id": "61da02ce-e713-489a-8666-c5bc74586b28",
   "metadata": {},
   "source": [
    "# Stored Model"
   ]
  },
  {
   "cell_type": "code",
   "execution_count": 27,
   "id": "559be360-81ae-43fe-90e2-3e431c289428",
   "metadata": {},
   "outputs": [],
   "source": [
    "import pickle\n",
    "\n",
    "with open(\"nb_model_bow.pkl\", \"wb\") as f:\n",
    "    pickle.dump(nb_model_bow, f)\n",
    "\n",
    "with open(\"vectorizer_bow.pkl\", \"wb\") as f:\n",
    "    pickle.dump(vectorizer_bow, f)\n"
   ]
  },
  {
   "cell_type": "markdown",
   "id": "f4342394-ed28-464f-9929-4fef7b409200",
   "metadata": {},
   "source": [
    "# Create 1 enpoint for server"
   ]
  },
  {
   "cell_type": "code",
   "execution_count": 1,
   "id": "c606f792-e5be-4261-b56e-85e9b8303736",
   "metadata": {},
   "outputs": [
    {
     "name": "stdout",
     "output_type": "stream",
     "text": [
      " * Serving Flask app '__main__'\n",
      " * Debug mode: off\n"
     ]
    },
    {
     "name": "stderr",
     "output_type": "stream",
     "text": [
      "WARNING: This is a development server. Do not use it in a production deployment. Use a production WSGI server instead.\n",
      " * Running on all addresses (0.0.0.0)\n",
      " * Running on http://127.0.0.1:5000\n",
      " * Running on http://192.168.31.21:5000\n",
      "Press CTRL+C to quit\n",
      "[2025-10-09 14:50:20,279] ERROR in app: Exception on /predict [POST]\n",
      "Traceback (most recent call last):\n",
      "  File \"C:\\Users\\ASUS\\anaconda3\\envs\\pyspark-env\\lib\\site-packages\\flask\\app.py\", line 1511, in wsgi_app\n",
      "    response = self.full_dispatch_request()\n",
      "  File \"C:\\Users\\ASUS\\anaconda3\\envs\\pyspark-env\\lib\\site-packages\\flask\\app.py\", line 919, in full_dispatch_request\n",
      "    rv = self.handle_user_exception(e)\n",
      "  File \"C:\\Users\\ASUS\\anaconda3\\envs\\pyspark-env\\lib\\site-packages\\flask\\app.py\", line 917, in full_dispatch_request\n",
      "    rv = self.dispatch_request()\n",
      "  File \"C:\\Users\\ASUS\\anaconda3\\envs\\pyspark-env\\lib\\site-packages\\flask\\app.py\", line 902, in dispatch_request\n",
      "    return self.ensure_sync(self.view_functions[rule.endpoint])(**view_args)  # type: ignore[no-any-return]\n",
      "  File \"C:\\Users\\ASUS\\AppData\\Local\\Temp\\ipykernel_659020\\803226314.py\", line 24, in predict\n",
      "    vec = vectorizer_bow.transform([comment])\n",
      "NameError: name 'vectorizer_bow' is not defined\n",
      "127.0.0.1 - - [09/Oct/2025 14:50:20] \"POST /predict HTTP/1.1\" 500 -\n"
     ]
    },
    {
     "ename": "",
     "evalue": "",
     "output_type": "error",
     "traceback": [
      "\u001b[1;31mThe Kernel crashed while executing code in the current cell or a previous cell. \n",
      "\u001b[1;31mPlease review the code in the cell(s) to identify a possible cause of the failure. \n",
      "\u001b[1;31mClick <a href='https://aka.ms/vscodeJupyterKernelCrash'>here</a> for more info. \n",
      "\u001b[1;31mView Jupyter <a href='command:jupyter.viewOutput'>log</a> for further details."
     ]
    }
   ],
   "source": [
    "from flask import Flask, request, jsonify\n",
    "import pickle\n",
    "\n",
    "app = Flask(__name__)\n",
    "\n",
    "@app.route(\"/\", methods=[\"GET\"])\n",
    "def home():\n",
    "    return jsonify({\"message\": \"API is running \"})\n",
    "\n",
    "# Endpoint dự đoán từ comment của frontend\n",
    "@app.route(\"/predict\", methods=[\"POST\"])\n",
    "def predict():\n",
    "    data = request.get_json()\n",
    "\n",
    "    # Lấy comment từ frontend\n",
    "    comment = data.get(\"comment\")\n",
    "    model_type = data.get(\"model_type\", \"bow\")  # mặc định là bow\n",
    "\n",
    "    if not comment:\n",
    "        return jsonify({\"error\": \"Comment is required\"}), 400\n",
    "\n",
    "    # Chọn model\n",
    "    if model_type == \"bow\":\n",
    "        vec = vectorizer_bow.transform([comment])\n",
    "        prediction = nb_model_bow.predict(vec)[0]\n",
    "    else:\n",
    "        vec = vectorizer_tfidf.transform([comment])\n",
    "        prediction = nb_model_tfidf.predict(vec)[0]\n",
    "\n",
    "    return jsonify({\n",
    "        \"comment\": comment,\n",
    "        \"model_type\": model_type,\n",
    "        \"prediction\": int(prediction)  # có thể là 0 = negative, 1 = positive\n",
    "    })\n",
    "\n",
    "if __name__ == \"__main__\":\n",
    "    app.run(host=\"0.0.0.0\", port=5000)\n"
   ]
  },
  {
   "cell_type": "code",
   "execution_count": null,
   "id": "40644fe0-562c-4d9d-9b36-3c143928d1e9",
   "metadata": {},
   "outputs": [],
   "source": []
  }
 ],
 "metadata": {
  "kernelspec": {
   "display_name": "pyspark-env",
   "language": "python",
   "name": "pyspark-env"
  }
 },
 "nbformat": 4,
 "nbformat_minor": 5
}
